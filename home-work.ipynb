{
 "cells": [
  {
   "cell_type": "markdown",
   "id": "4f7c94f3",
   "metadata": {},
   "source": [
    "Домашнее задание №1\n",
    "====\n",
    "\n"
   ]
  },
  {
   "cell_type": "code",
   "execution_count": 68,
   "id": "774b1d30",
   "metadata": {},
   "outputs": [],
   "source": [
    "# Импортируем нужные нам библиотеки\n",
    "import pandas as pd\n",
    "%matplotlib inline\n",
    "import matplotlib.pyplot as plt\n",
    "import seaborn; seaborn.set()\n",
    "from sklearn.metrics import mean_absolute_error,mean_squared_error,r2_score\n",
    "import numpy as np\n",
    "import matplotlib.dates as mdates\n",
    "import seaborn as sns\n",
    "import matplotlib\n",
    "# Use seaborn style defaults and set the default figure size\n",
    "sns.set(rc={'figure.figsize':(15, 10)})\n",
    "sns.set(font_scale=2)\n",
    "sns.set_style(\"whitegrid\")\n",
    "from sklearn.metrics import mean_absolute_error,mean_squared_error,r2_score\n",
    "from sklearn.model_selection import TimeSeriesSplit\n",
    "import math\n"
   ]
  },
  {
   "cell_type": "code",
   "execution_count": 2,
   "id": "7cf33c92",
   "metadata": {},
   "outputs": [],
   "source": [
    "# Загружаем датасет, с которым мы будем работать\n",
    "df = pd.read_csv('../datatest/bike-sharing.csv')"
   ]
  },
  {
   "cell_type": "code",
   "execution_count": 3,
   "id": "9cb530ae",
   "metadata": {},
   "outputs": [
    {
     "data": {
      "text/plain": "   instant      dteday  season  yr  mnth  hr  holiday  weekday  workingday  \\\n0        1  2011-01-01       1   0     1   0        0        6           0   \n1        2  2011-01-01       1   0     1   1        0        6           0   \n2        3  2011-01-01       1   0     1   2        0        6           0   \n3        4  2011-01-01       1   0     1   3        0        6           0   \n4        5  2011-01-01       1   0     1   4        0        6           0   \n\n   weathersit  temp   atemp   hum  windspeed  casual  registered  cnt  \n0           1  9.84  0.2879  0.81        0.0       3          13   16  \n1           1  9.02  0.2727  0.80        0.0       8          32   40  \n2           1  9.02  0.2727  0.80        0.0       5          27   32  \n3           1  9.84  0.2879  0.75        0.0       3          10   13  \n4           1  9.84  0.2879  0.75        0.0       0           1    1  ",
      "text/html": "<div>\n<style scoped>\n    .dataframe tbody tr th:only-of-type {\n        vertical-align: middle;\n    }\n\n    .dataframe tbody tr th {\n        vertical-align: top;\n    }\n\n    .dataframe thead th {\n        text-align: right;\n    }\n</style>\n<table border=\"1\" class=\"dataframe\">\n  <thead>\n    <tr style=\"text-align: right;\">\n      <th></th>\n      <th>instant</th>\n      <th>dteday</th>\n      <th>season</th>\n      <th>yr</th>\n      <th>mnth</th>\n      <th>hr</th>\n      <th>holiday</th>\n      <th>weekday</th>\n      <th>workingday</th>\n      <th>weathersit</th>\n      <th>temp</th>\n      <th>atemp</th>\n      <th>hum</th>\n      <th>windspeed</th>\n      <th>casual</th>\n      <th>registered</th>\n      <th>cnt</th>\n    </tr>\n  </thead>\n  <tbody>\n    <tr>\n      <th>0</th>\n      <td>1</td>\n      <td>2011-01-01</td>\n      <td>1</td>\n      <td>0</td>\n      <td>1</td>\n      <td>0</td>\n      <td>0</td>\n      <td>6</td>\n      <td>0</td>\n      <td>1</td>\n      <td>9.84</td>\n      <td>0.2879</td>\n      <td>0.81</td>\n      <td>0.0</td>\n      <td>3</td>\n      <td>13</td>\n      <td>16</td>\n    </tr>\n    <tr>\n      <th>1</th>\n      <td>2</td>\n      <td>2011-01-01</td>\n      <td>1</td>\n      <td>0</td>\n      <td>1</td>\n      <td>1</td>\n      <td>0</td>\n      <td>6</td>\n      <td>0</td>\n      <td>1</td>\n      <td>9.02</td>\n      <td>0.2727</td>\n      <td>0.80</td>\n      <td>0.0</td>\n      <td>8</td>\n      <td>32</td>\n      <td>40</td>\n    </tr>\n    <tr>\n      <th>2</th>\n      <td>3</td>\n      <td>2011-01-01</td>\n      <td>1</td>\n      <td>0</td>\n      <td>1</td>\n      <td>2</td>\n      <td>0</td>\n      <td>6</td>\n      <td>0</td>\n      <td>1</td>\n      <td>9.02</td>\n      <td>0.2727</td>\n      <td>0.80</td>\n      <td>0.0</td>\n      <td>5</td>\n      <td>27</td>\n      <td>32</td>\n    </tr>\n    <tr>\n      <th>3</th>\n      <td>4</td>\n      <td>2011-01-01</td>\n      <td>1</td>\n      <td>0</td>\n      <td>1</td>\n      <td>3</td>\n      <td>0</td>\n      <td>6</td>\n      <td>0</td>\n      <td>1</td>\n      <td>9.84</td>\n      <td>0.2879</td>\n      <td>0.75</td>\n      <td>0.0</td>\n      <td>3</td>\n      <td>10</td>\n      <td>13</td>\n    </tr>\n    <tr>\n      <th>4</th>\n      <td>5</td>\n      <td>2011-01-01</td>\n      <td>1</td>\n      <td>0</td>\n      <td>1</td>\n      <td>4</td>\n      <td>0</td>\n      <td>6</td>\n      <td>0</td>\n      <td>1</td>\n      <td>9.84</td>\n      <td>0.2879</td>\n      <td>0.75</td>\n      <td>0.0</td>\n      <td>0</td>\n      <td>1</td>\n      <td>1</td>\n    </tr>\n  </tbody>\n</table>\n</div>"
     },
     "execution_count": 3,
     "metadata": {},
     "output_type": "execute_result"
    }
   ],
   "source": [
    "df.head()"
   ]
  },
  {
   "cell_type": "markdown",
   "id": "c8226bb3",
   "metadata": {},
   "source": [
    "Задание\n",
    "====\n",
    "Для тех же данных, что мы рассмотрели на лекции (bike sharing), сделать следующее:\n",
    "* Выбрать самостоятельно уровень агрегации (день, неделя, месяц, год), а так же функцию агрегации (среднее, сумма, максимум). \n",
    "* Построить базовую наивную модель\n",
    "* В этот раз применить принцип кросс-валидации для временных рядов, используя выбранную метрику ($R^2$, MSE, MAE, MRSE).\n",
    "\n",
    "\n"
   ]
  },
  {
   "cell_type": "code",
   "execution_count": 8,
   "id": "fb6c72bd",
   "metadata": {},
   "outputs": [],
   "source": [
    "df['dteday'] = pd.to_datetime(df['dteday'])\n",
    "df.set_index('dteday', inplace=True)"
   ]
  },
  {
   "cell_type": "code",
   "execution_count": 24,
   "outputs": [
    {
     "data": {
      "text/plain": "            instant    season   yr  mnth         hr   holiday   weekday  \\\ndteday                                                                    \n2011-01-02     26.0  1.000000  0.0   1.0  12.581395  0.000000  2.790698   \n2011-01-09    128.5  1.000000  0.0   1.0  11.820988  0.000000  3.012346   \n2011-01-16    291.0  1.000000  0.0   1.0  11.742331  0.000000  3.000000   \n2011-01-23    449.0  1.000000  0.0   1.0  12.117647  0.156863  3.078431   \n2011-01-30    595.0  1.000000  0.0   1.0  11.956835  0.000000  2.892086   \n...             ...       ...  ...   ...        ...       ...       ...   \n2012-12-09  16769.5  4.000000  1.0  12.0  11.500000  0.000000  3.000000   \n2012-12-16  16937.5  4.000000  1.0  12.0  11.500000  0.000000  3.000000   \n2012-12-23  17105.5  2.714286  1.0  12.0  11.500000  0.000000  3.000000   \n2012-12-30  17272.5  1.000000  1.0  12.0  11.596386  0.138554  3.018072   \n2013-01-06  17367.5  1.000000  1.0  12.0  11.500000  0.000000  1.000000   \n\n            workingday  weathersit       temp     atemp       hum  windspeed  \\\ndteday                                                                         \n2011-01-02    0.000000    1.837209  14.969767  0.366088  0.748605   0.222491   \n2011-01-09    0.703704    1.259259   7.754568  0.192397  0.493333   0.212834   \n2011-01-16    0.705521    1.349693   7.535951  0.189537  0.534479   0.203652   \n2011-01-23    0.542484    1.555556   7.412157  0.182322  0.545294   0.222324   \n2011-01-30    0.669065    1.625899   7.846043  0.207873  0.680863   0.144749   \n...                ...         ...        ...       ...       ...        ...   \n2012-12-09    0.714286    1.595238  15.867976  0.387526  0.725119   0.163654   \n2012-12-16    0.714286    1.583333  13.769167  0.338282  0.668274   0.165962   \n2012-12-23    0.714286    1.476190  13.500714  0.326562  0.625714   0.221576   \n2012-12-30    0.572289    1.885542  10.437711  0.246713  0.688916   0.221638   \n2013-01-06    1.000000    1.500000   8.849167  0.223488  0.577500   0.154846   \n\n               casual  registered         cnt     cnt_hat  \ndteday                                                     \n2011-01-02  10.302326   28.883721   39.186047   39.302326  \n2011-01-09   4.123457   53.950617   58.074074   58.086420  \n2011-01-16   4.134969   51.233129   55.368098   55.294479  \n2011-01-23   3.954248   53.366013   57.320261   57.300654  \n2011-01-30   4.474820   50.913669   55.388489   55.388489  \n...               ...         ...         ...         ...  \n2012-12-09  22.142857  202.630952  224.773810  224.773810  \n2012-12-16  18.333333  195.750000  214.083333  214.190476  \n2012-12-23  12.654762  146.250000  158.904762  158.952381  \n2012-12-30  12.271084   52.307229   64.578313   64.433735  \n2013-01-06  18.291667   95.416667  113.708333  113.708333  \n\n[106 rows x 17 columns]",
      "text/html": "<div>\n<style scoped>\n    .dataframe tbody tr th:only-of-type {\n        vertical-align: middle;\n    }\n\n    .dataframe tbody tr th {\n        vertical-align: top;\n    }\n\n    .dataframe thead th {\n        text-align: right;\n    }\n</style>\n<table border=\"1\" class=\"dataframe\">\n  <thead>\n    <tr style=\"text-align: right;\">\n      <th></th>\n      <th>instant</th>\n      <th>season</th>\n      <th>yr</th>\n      <th>mnth</th>\n      <th>hr</th>\n      <th>holiday</th>\n      <th>weekday</th>\n      <th>workingday</th>\n      <th>weathersit</th>\n      <th>temp</th>\n      <th>atemp</th>\n      <th>hum</th>\n      <th>windspeed</th>\n      <th>casual</th>\n      <th>registered</th>\n      <th>cnt</th>\n      <th>cnt_hat</th>\n    </tr>\n    <tr>\n      <th>dteday</th>\n      <th></th>\n      <th></th>\n      <th></th>\n      <th></th>\n      <th></th>\n      <th></th>\n      <th></th>\n      <th></th>\n      <th></th>\n      <th></th>\n      <th></th>\n      <th></th>\n      <th></th>\n      <th></th>\n      <th></th>\n      <th></th>\n      <th></th>\n    </tr>\n  </thead>\n  <tbody>\n    <tr>\n      <th>2011-01-02</th>\n      <td>26.0</td>\n      <td>1.000000</td>\n      <td>0.0</td>\n      <td>1.0</td>\n      <td>12.581395</td>\n      <td>0.000000</td>\n      <td>2.790698</td>\n      <td>0.000000</td>\n      <td>1.837209</td>\n      <td>14.969767</td>\n      <td>0.366088</td>\n      <td>0.748605</td>\n      <td>0.222491</td>\n      <td>10.302326</td>\n      <td>28.883721</td>\n      <td>39.186047</td>\n      <td>39.302326</td>\n    </tr>\n    <tr>\n      <th>2011-01-09</th>\n      <td>128.5</td>\n      <td>1.000000</td>\n      <td>0.0</td>\n      <td>1.0</td>\n      <td>11.820988</td>\n      <td>0.000000</td>\n      <td>3.012346</td>\n      <td>0.703704</td>\n      <td>1.259259</td>\n      <td>7.754568</td>\n      <td>0.192397</td>\n      <td>0.493333</td>\n      <td>0.212834</td>\n      <td>4.123457</td>\n      <td>53.950617</td>\n      <td>58.074074</td>\n      <td>58.086420</td>\n    </tr>\n    <tr>\n      <th>2011-01-16</th>\n      <td>291.0</td>\n      <td>1.000000</td>\n      <td>0.0</td>\n      <td>1.0</td>\n      <td>11.742331</td>\n      <td>0.000000</td>\n      <td>3.000000</td>\n      <td>0.705521</td>\n      <td>1.349693</td>\n      <td>7.535951</td>\n      <td>0.189537</td>\n      <td>0.534479</td>\n      <td>0.203652</td>\n      <td>4.134969</td>\n      <td>51.233129</td>\n      <td>55.368098</td>\n      <td>55.294479</td>\n    </tr>\n    <tr>\n      <th>2011-01-23</th>\n      <td>449.0</td>\n      <td>1.000000</td>\n      <td>0.0</td>\n      <td>1.0</td>\n      <td>12.117647</td>\n      <td>0.156863</td>\n      <td>3.078431</td>\n      <td>0.542484</td>\n      <td>1.555556</td>\n      <td>7.412157</td>\n      <td>0.182322</td>\n      <td>0.545294</td>\n      <td>0.222324</td>\n      <td>3.954248</td>\n      <td>53.366013</td>\n      <td>57.320261</td>\n      <td>57.300654</td>\n    </tr>\n    <tr>\n      <th>2011-01-30</th>\n      <td>595.0</td>\n      <td>1.000000</td>\n      <td>0.0</td>\n      <td>1.0</td>\n      <td>11.956835</td>\n      <td>0.000000</td>\n      <td>2.892086</td>\n      <td>0.669065</td>\n      <td>1.625899</td>\n      <td>7.846043</td>\n      <td>0.207873</td>\n      <td>0.680863</td>\n      <td>0.144749</td>\n      <td>4.474820</td>\n      <td>50.913669</td>\n      <td>55.388489</td>\n      <td>55.388489</td>\n    </tr>\n    <tr>\n      <th>...</th>\n      <td>...</td>\n      <td>...</td>\n      <td>...</td>\n      <td>...</td>\n      <td>...</td>\n      <td>...</td>\n      <td>...</td>\n      <td>...</td>\n      <td>...</td>\n      <td>...</td>\n      <td>...</td>\n      <td>...</td>\n      <td>...</td>\n      <td>...</td>\n      <td>...</td>\n      <td>...</td>\n      <td>...</td>\n    </tr>\n    <tr>\n      <th>2012-12-09</th>\n      <td>16769.5</td>\n      <td>4.000000</td>\n      <td>1.0</td>\n      <td>12.0</td>\n      <td>11.500000</td>\n      <td>0.000000</td>\n      <td>3.000000</td>\n      <td>0.714286</td>\n      <td>1.595238</td>\n      <td>15.867976</td>\n      <td>0.387526</td>\n      <td>0.725119</td>\n      <td>0.163654</td>\n      <td>22.142857</td>\n      <td>202.630952</td>\n      <td>224.773810</td>\n      <td>224.773810</td>\n    </tr>\n    <tr>\n      <th>2012-12-16</th>\n      <td>16937.5</td>\n      <td>4.000000</td>\n      <td>1.0</td>\n      <td>12.0</td>\n      <td>11.500000</td>\n      <td>0.000000</td>\n      <td>3.000000</td>\n      <td>0.714286</td>\n      <td>1.583333</td>\n      <td>13.769167</td>\n      <td>0.338282</td>\n      <td>0.668274</td>\n      <td>0.165962</td>\n      <td>18.333333</td>\n      <td>195.750000</td>\n      <td>214.083333</td>\n      <td>214.190476</td>\n    </tr>\n    <tr>\n      <th>2012-12-23</th>\n      <td>17105.5</td>\n      <td>2.714286</td>\n      <td>1.0</td>\n      <td>12.0</td>\n      <td>11.500000</td>\n      <td>0.000000</td>\n      <td>3.000000</td>\n      <td>0.714286</td>\n      <td>1.476190</td>\n      <td>13.500714</td>\n      <td>0.326562</td>\n      <td>0.625714</td>\n      <td>0.221576</td>\n      <td>12.654762</td>\n      <td>146.250000</td>\n      <td>158.904762</td>\n      <td>158.952381</td>\n    </tr>\n    <tr>\n      <th>2012-12-30</th>\n      <td>17272.5</td>\n      <td>1.000000</td>\n      <td>1.0</td>\n      <td>12.0</td>\n      <td>11.596386</td>\n      <td>0.138554</td>\n      <td>3.018072</td>\n      <td>0.572289</td>\n      <td>1.885542</td>\n      <td>10.437711</td>\n      <td>0.246713</td>\n      <td>0.688916</td>\n      <td>0.221638</td>\n      <td>12.271084</td>\n      <td>52.307229</td>\n      <td>64.578313</td>\n      <td>64.433735</td>\n    </tr>\n    <tr>\n      <th>2013-01-06</th>\n      <td>17367.5</td>\n      <td>1.000000</td>\n      <td>1.0</td>\n      <td>12.0</td>\n      <td>11.500000</td>\n      <td>0.000000</td>\n      <td>1.000000</td>\n      <td>1.000000</td>\n      <td>1.500000</td>\n      <td>8.849167</td>\n      <td>0.223488</td>\n      <td>0.577500</td>\n      <td>0.154846</td>\n      <td>18.291667</td>\n      <td>95.416667</td>\n      <td>113.708333</td>\n      <td>113.708333</td>\n    </tr>\n  </tbody>\n</table>\n<p>106 rows × 17 columns</p>\n</div>"
     },
     "execution_count": 24,
     "metadata": {},
     "output_type": "execute_result"
    }
   ],
   "source": [
    "df = df.resample('W').mean()\n",
    "df.sort_values('dteday')"
   ],
   "metadata": {
    "collapsed": false,
    "pycharm": {
     "name": "#%%\n"
    }
   }
  },
  {
   "cell_type": "code",
   "execution_count": 46,
   "outputs": [
    {
     "data": {
      "text/plain": "dteday\n2011-02-13     62.260606\n2011-02-20     68.662577\n2011-02-27     89.042424\n2011-03-06     76.664557\n2011-03-13     71.163636\n                 ...    \n2012-12-09    210.401198\n2012-12-16    224.773810\n2012-12-23    214.083333\n2012-12-30    158.904762\n2013-01-06     64.578313\nFreq: W-SUN, Name: cnt_hat, Length: 100, dtype: float64"
     },
     "execution_count": 46,
     "metadata": {},
     "output_type": "execute_result"
    }
   ],
   "source": [
    "df['cnt_hat'] = df['cnt'].shift(1)\n",
    "df.dropna(inplace=True)\n",
    "X = df[\"cnt\"]\n",
    "y = df[\"cnt_hat\"]"
   ],
   "metadata": {
    "collapsed": false,
    "pycharm": {
     "name": "#%%\n"
    }
   }
  },
  {
   "cell_type": "code",
   "execution_count": 72,
   "outputs": [
    {
     "name": "stdout",
     "output_type": "stream",
     "text": [
      "TRAIN: \t MSE\t MAE\t RMSe \tR2\n",
      "1 \t\t 225.81 11.0 15.03 0.91\n",
      "2 \t\t 406.56 14.27 20.16 0.8\n",
      "3 \t\t 524.06 17.12 22.89 0.7\n",
      "4 \t\t 538.11 17.48 23.2 0.8\n",
      "5 \t\t 524.59 17.44 22.9 0.88\n"
     ]
    }
   ],
   "source": [
    "tscv = TimeSeriesSplit(n_splits=5)\n",
    "i = 0\n",
    "print(\"TRAIN:\", '\\t MSE\\t MAE\\t RMSe \\tR2')\n",
    "for train_index, test_index in tscv.split(X):\n",
    "    i += 1\n",
    "    X_train, X_test = X[train_index], X[test_index]\n",
    "    #print(len(X_train))\n",
    "    y_train, y_test = y[train_index], y[test_index]\n",
    "    mse = round(mean_squared_error(X_train, y_train), 2)\n",
    "    mae = round(mean_absolute_error(X_train, y_train), 2)\n",
    "    rmse = round(math.sqrt(mse), 2)\n",
    "    r2 = round(r2_score(X_train, y_train), 2)\n",
    "    print(i, '\\t\\t', mse, mae, rmse, r2)"
   ],
   "metadata": {
    "collapsed": false,
    "pycharm": {
     "name": "#%%\n"
    }
   }
  },
  {
   "cell_type": "code",
   "execution_count": 50,
   "outputs": [],
   "source": [],
   "metadata": {
    "collapsed": false,
    "pycharm": {
     "name": "#%%\n"
    }
   }
  }
 ],
 "metadata": {
  "kernelspec": {
   "display_name": "Python 3",
   "language": "python",
   "name": "python3"
  },
  "language_info": {
   "codemirror_mode": {
    "name": "ipython",
    "version": 3
   },
   "file_extension": ".py",
   "mimetype": "text/x-python",
   "name": "python",
   "nbconvert_exporter": "python",
   "pygments_lexer": "ipython3",
   "version": "3.7.2"
  }
 },
 "nbformat": 4,
 "nbformat_minor": 5
}